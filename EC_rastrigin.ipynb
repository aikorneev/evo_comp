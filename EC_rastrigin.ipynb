{
  "nbformat": 4,
  "nbformat_minor": 0,
  "metadata": {
    "colab": {
      "name": "EvoComb_lab1.ipynb",
      "provenance": [],
      "collapsed_sections": []
    },
    "kernelspec": {
      "name": "python3",
      "display_name": "Python 3"
    },
    "language_info": {
      "name": "python"
    }
  },
  "cells": [
    {
      "cell_type": "markdown",
      "metadata": {
        "id": "GubDb_uVtrNY"
      },
      "source": [
        "#Evolutionary computing: lab1\n",
        "\n",
        "The problem is to adjust parameters of evolutionary algorithm to find an optimum of Rastrigin function with following conditions:\n",
        "+ Dimension of the problem: 100\n",
        "+ Populatin size: 100\n",
        "+ Minimum value of found extremum: 9.5 (the best is 10)"
      ]
    },
    {
      "cell_type": "code",
      "metadata": {
        "colab": {
          "base_uri": "https://localhost:8080/"
        },
        "id": "-hCzwFYzu9wf",
        "outputId": "9996ed17-dd3c-4b90-85c8-baf89fd0c3f2"
      },
      "source": [
        "# we will use DEAP framework\n",
        "!pip install deap"
      ],
      "execution_count": 1,
      "outputs": [
        {
          "output_type": "stream",
          "name": "stdout",
          "text": [
            "Collecting deap\n",
            "  Downloading deap-1.3.1-cp37-cp37m-manylinux_2_5_x86_64.manylinux1_x86_64.manylinux_2_12_x86_64.manylinux2010_x86_64.whl (160 kB)\n",
            "\u001b[?25l\r\u001b[K     |██                              | 10 kB 20.1 MB/s eta 0:00:01\r\u001b[K     |████                            | 20 kB 11.9 MB/s eta 0:00:01\r\u001b[K     |██████                          | 30 kB 9.5 MB/s eta 0:00:01\r\u001b[K     |████████▏                       | 40 kB 8.2 MB/s eta 0:00:01\r\u001b[K     |██████████▏                     | 51 kB 6.9 MB/s eta 0:00:01\r\u001b[K     |████████████▏                   | 61 kB 7.4 MB/s eta 0:00:01\r\u001b[K     |██████████████▎                 | 71 kB 7.0 MB/s eta 0:00:01\r\u001b[K     |████████████████▎               | 81 kB 7.7 MB/s eta 0:00:01\r\u001b[K     |██████████████████▎             | 92 kB 7.1 MB/s eta 0:00:01\r\u001b[K     |████████████████████▍           | 102 kB 6.8 MB/s eta 0:00:01\r\u001b[K     |██████████████████████▍         | 112 kB 6.8 MB/s eta 0:00:01\r\u001b[K     |████████████████████████▍       | 122 kB 6.8 MB/s eta 0:00:01\r\u001b[K     |██████████████████████████▌     | 133 kB 6.8 MB/s eta 0:00:01\r\u001b[K     |████████████████████████████▌   | 143 kB 6.8 MB/s eta 0:00:01\r\u001b[K     |██████████████████████████████▌ | 153 kB 6.8 MB/s eta 0:00:01\r\u001b[K     |████████████████████████████████| 160 kB 6.8 MB/s \n",
            "\u001b[?25hRequirement already satisfied: numpy in /usr/local/lib/python3.7/dist-packages (from deap) (1.19.5)\n",
            "Installing collected packages: deap\n",
            "Successfully installed deap-1.3.1\n"
          ]
        }
      ]
    },
    {
      "cell_type": "markdown",
      "metadata": {
        "id": "1E7ibb6DvSFK"
      },
      "source": [
        "Here we describe Rastrigin Function:\n"
      ]
    },
    {
      "cell_type": "code",
      "metadata": {
        "id": "P7RLKVmkvPZ8"
      },
      "source": [
        "import numpy as np\n",
        "import math\n",
        "\n",
        "def rastrigin(individual):\n",
        "    n = len(individual)\n",
        "    pi = math.pi\n",
        "    dn = 1.0 / n\n",
        "    a = 10.0\n",
        "    b = 0.2\n",
        "    c = 2 * pi\n",
        "    s1 = 0.0\n",
        "    s2 = 0.0\n",
        "    for i in range(n):\n",
        "        s1 += individual[i] * individual[i]\n",
        "        s2 += np.cos(c*individual[i])\n",
        "    s1 = -a * math.exp(-b*math.sqrt(dn*s1))\n",
        "    s2 = -math.exp(dn*s2)\n",
        "    result = s1+s2 + a + math.exp(1)\n",
        "    result = -result\n",
        "    result = result + a\n",
        "    result = math.fabs(result)\n",
        "    return result"
      ],
      "execution_count": 2,
      "outputs": []
    },
    {
      "cell_type": "markdown",
      "metadata": {
        "id": "V6xlpF0A3x_Q"
      },
      "source": [
        "Here we describe eaMuPlusLambda algorithm (mu - population size, lambda - number of individuals after crossover, the next generation is formed both from new individuals and old ones):"
      ]
    },
    {
      "cell_type": "code",
      "metadata": {
        "id": "_Zio0JlXxdfE"
      },
      "source": [
        "def varOr(population, toolbox, lambda_, cxpb, mutpb):\n",
        "    offspring = []\n",
        "    for _ in range(lambda_):\n",
        "        op_choice = random.random()\n",
        "        if op_choice < cxpb:            # Apply crossover\n",
        "            ind1, ind2 = list(map(toolbox.clone, random.sample(population, 2)))\n",
        "            ind1, ind2 = toolbox.mate(ind1, ind2)\n",
        "            del ind1.fitness.values\n",
        "            del ind2.fitness.values\n",
        "            offspring.append(ind1)\n",
        "        elif op_choice < cxpb + mutpb:  # Apply mutation\n",
        "            ind = toolbox.clone(random.choice(population))\n",
        "            ind, = toolbox.mutate(ind)\n",
        "            del ind.fitness.values\n",
        "            offspring.append(ind)\n",
        "        else:                           # Apply reproduction\n",
        "            offspring.append(toolbox.clone(random.choice(population)))\n",
        "\n",
        "    return offspring"
      ],
      "execution_count": 3,
      "outputs": []
    },
    {
      "cell_type": "code",
      "metadata": {
        "id": "bp9DSFMowQef"
      },
      "source": [
        "import operator\n",
        "import random\n",
        "\n",
        "def eaMuPlusLambda(population, toolbox, mu, lambda_, cxpb, mutpb, ngen,\n",
        "                   stats=None, halloffame=None, verbose=__debug__):\n",
        "    logbook = tools.Logbook()\n",
        "    logbook.header = ['gen', 'nevals'] + (stats.fields if stats else [])\n",
        "\n",
        "    # Evaluate the individuals with an invalid fitness\n",
        "    invalid_ind = [ind for ind in population if not ind.fitness.valid]\n",
        "    fitnesses = toolbox.map(toolbox.evaluate, invalid_ind)\n",
        "    for ind, fit in zip(invalid_ind, fitnesses):\n",
        "        ind.fitness.values = (fit, )\n",
        "    if halloffame is not None:\n",
        "        halloffame.update(population)\n",
        "\n",
        "    record = stats.compile(population) if stats is not None else {}\n",
        "    logbook.record(gen=0, nevals=len(invalid_ind), **record)\n",
        "    if verbose:\n",
        "        print(logbook.stream)\n",
        "\n",
        "    # Begin the generational process\n",
        "    for gen in range(1, ngen + 1):\n",
        "        # Vary the population\n",
        "        if halloffame is not None:\n",
        "            for ind in halloffame:\n",
        "                population.append(toolbox.clone(ind))\n",
        "        offspring = varOr(population, toolbox, lambda_, cxpb, mutpb)\n",
        "\n",
        "        # Evaluate the individuals with an invalid fitness\n",
        "        invalid_ind = [ind for ind in offspring if not ind.fitness.valid]\n",
        "        fitnesses = toolbox.map(toolbox.evaluate, invalid_ind)\n",
        "        for ind, fit in zip(invalid_ind, fitnesses):\n",
        "            ind.fitness.values = (fit, )\n",
        "\n",
        "        # Update the hall of fame with the generated individuals\n",
        "        if halloffame is not None:\n",
        "            halloffame.update(offspring)\n",
        "\n",
        "        # Select the next generation population\n",
        "        population[:] = toolbox.select(population + offspring, mu)\n",
        "\n",
        "        # Update the statistics with the new population\n",
        "        if not gen%10:\n",
        "          record = stats.compile(population) if stats is not None else {}\n",
        "          logbook.record(gen=gen, nevals=len(invalid_ind), **record)\n",
        "          if verbose:\n",
        "              print(logbook.stream)\n",
        "\n",
        "    return population, logbook"
      ],
      "execution_count": 4,
      "outputs": []
    },
    {
      "cell_type": "markdown",
      "metadata": {
        "id": "bHelClK4wRSf"
      },
      "source": [
        "Here we create a class for execution of simple experiment, it contains parameteres of evolutionary algorithm which we need to fix in oder to get better perfomance:"
      ]
    },
    {
      "cell_type": "code",
      "metadata": {
        "id": "5dXGQfL8vVwn"
      },
      "source": [
        "def mutation(individual):\n",
        "    n = len(individual)\n",
        "    for i in range(n):\n",
        "        if rnd.random() < n * 0.15:\n",
        "            individual[i] += rnd.normal(0.0, 0.2)\n",
        "            individual[i] = np.clip(individual[i], -5, 5)\n",
        "    return individual,"
      ],
      "execution_count": 5,
      "outputs": []
    },
    {
      "cell_type": "code",
      "metadata": {
        "id": "3igTt4vQviFy"
      },
      "source": [
        "from deap import tools\n",
        "from numpy import random as rnd\n",
        "\n",
        "class SimpleGAExperiment:\n",
        "    def factory(self):\n",
        "        return rnd.random(self.dimension) * 10 - 5\n",
        "\n",
        "    def __init__(self, function, dimension, pop_size, iterations):\n",
        "        self.pop_size = pop_size\n",
        "        self.iterations = iterations\n",
        "        self.mut_prob = 0.6\n",
        "        self.cross_prob = 0.3\n",
        "\n",
        "        self.function = function\n",
        "        self.dimension = dimension\n",
        "\n",
        "        self.engine = base.Toolbox()\n",
        "        self.engine.register(\"map\", map)\n",
        "        self.engine.register(\"individual\", tools.initIterate, creator.Individual, self.factory)\n",
        "        self.engine.register(\"population\", tools.initRepeat, list, self.engine.individual, self.pop_size)\n",
        "        self.engine.register(\"mate\", tools.cxOnePoint)\n",
        "        self.engine.register(\"mutate\", mutation)\n",
        "        self.engine.register(\"select\", tools.selTournament, tournsize=4)\n",
        "        self.engine.register(\"evaluate\", self.function)\n",
        "        self.best = None\n",
        "        self.best_fit = None\n",
        "\n",
        "\n",
        "    def run(self, update_log = 'yes'):\n",
        "        pop = self.engine.population()\n",
        "        hof = tools.HallOfFame(3, np.array_equal)\n",
        "        stats = tools.Statistics(lambda ind: ind.fitness.values[0])\n",
        "        stats.register(\"avg\", np.mean)\n",
        "        stats.register(\"std\", np.std)\n",
        "        stats.register(\"min\", np.min)\n",
        "        stats.register(\"max\", np.max)\n",
        "        pop, log = eaMuPlusLambda(pop, self.engine, mu=self.pop_size, lambda_=int(self.pop_size*0.8), cxpb=self.cross_prob, mutpb=self.mut_prob,\n",
        "                                  ngen=self.iterations,\n",
        "                                  stats=stats, halloffame=hof, verbose=True if update_log == 'yes' else False)\n",
        "        \n",
        "        if update_log == 'yes':\n",
        "          print(\"Best = {}\".format(hof[0]))\n",
        "          print(\"Best fit = {}\".format(hof[0].fitness.values[0]))\n",
        "        \n",
        "        self.best = hof[0]\n",
        "        self.best_fit = hof[0].fitness.values[0]\n",
        "        return log"
      ],
      "execution_count": 6,
      "outputs": []
    },
    {
      "cell_type": "markdown",
      "metadata": {
        "id": "8DsGe3kK5bW-"
      },
      "source": [
        "Here we need to create the Fitness and the Individual classes:"
      ]
    },
    {
      "cell_type": "code",
      "metadata": {
        "id": "2Q3sFjXov0RV"
      },
      "source": [
        "from deap import creator\n",
        "from deap import base\n",
        "creator.create(\"BaseFitness\", base.Fitness, weights=(1.0,))\n",
        "creator.create(\"Individual\", np.ndarray, fitness=creator.BaseFitness)"
      ],
      "execution_count": 7,
      "outputs": []
    },
    {
      "cell_type": "markdown",
      "metadata": {
        "id": "vEsFf-Io6F8X"
      },
      "source": [
        "Let's execute the experiment with basic parameters:"
      ]
    },
    {
      "cell_type": "code",
      "metadata": {
        "colab": {
          "base_uri": "https://localhost:8080/"
        },
        "id": "UT91pbBPvoXV",
        "outputId": "389ecebd-c4a8-42f5-8a2e-91d8829f23b5"
      },
      "source": [
        "dimension = 100\n",
        "pop_size = 100\n",
        "iterations = 100\n",
        "scenario = SimpleGAExperiment(rastrigin, dimension, pop_size, iterations)\n",
        "log = scenario.run()"
      ],
      "execution_count": 8,
      "outputs": [
        {
          "output_type": "stream",
          "name": "stdout",
          "text": [
            "gen\tnevals\tavg    \tstd     \tmin    \tmax    \n",
            "0  \t100   \t3.88306\t0.166921\t3.55744\t4.35602\n",
            "10 \t70    \t4.73043\t0.0332824\t4.56592\t4.86373\n",
            "20 \t71    \t5.01326\t0.0305611\t4.86543\t5.06822\n",
            "30 \t73    \t5.11061\t0.0260016\t4.88332\t5.21739\n",
            "40 \t75    \t5.24383\t0.0314159\t4.93242\t5.25348\n",
            "50 \t73    \t5.25688\t1.77636e-15\t5.25688\t5.25688\n",
            "60 \t74    \t5.25538\t0.014979   \t5.10634\t5.25688\n",
            "70 \t74    \t5.25688\t1.77636e-15\t5.25688\t5.25688\n",
            "80 \t66    \t5.25688\t1.77636e-15\t5.25688\t5.25688\n",
            "90 \t75    \t5.25688\t1.77636e-15\t5.25688\t5.25688\n",
            "100\t68    \t5.25302\t0.0384385  \t4.87056\t5.25688\n",
            "Best = [ 0.71139906 -1.90260878 -0.73496897 -1.04125224 -1.89053557 -0.17000902\n",
            "  0.09782595  2.14817306  1.81572158 -1.86140927 -0.43742451  0.93300551\n",
            " -2.29355714  1.09917906 -0.14799723  0.1280856   2.91380589 -1.82670784\n",
            "  3.95315032 -1.98342552  2.10372911  2.12484366 -2.18738603 -2.82470473\n",
            "  3.29032813 -0.98060703 -3.09701782  2.573814   -3.15032506  2.84662698\n",
            "  2.80968181  1.17382503 -3.89475737  1.38585595 -1.01916075 -2.9476173\n",
            "  1.02427561  0.05405449 -0.9771566   1.34567835  1.08391271  3.98079428\n",
            "  3.09579995  1.93637087  0.83635693 -0.7178507  -0.41393692  2.06215227\n",
            "  0.02094139 -4.06222687 -4.18815872  0.23231804 -2.50178969  1.23130775\n",
            "  4.07254399 -1.13525347 -2.30720774  0.16561167 -0.30156771 -0.11414577\n",
            " -1.79377331  2.96914092 -0.3074641   0.83770272 -4.1353311   4.98072355\n",
            "  2.92505503 -1.09882362  1.23149271 -4.11251119  2.08500852  2.44906522\n",
            " -1.15000176  0.98561528  1.61657269 -4.49367255  0.32203912  0.11617973\n",
            " -0.85631318 -2.26783667  0.03774804  0.60650305 -1.11135488  2.42915796\n",
            " -0.97580654  0.07940137  2.7437167  -3.87881818  2.97954583 -2.96895634\n",
            "  4.06008006 -2.0530923   3.08531609 -2.89126578  0.05446941  1.91925402\n",
            " -1.83596486  2.10417517 -1.63144278 -1.02502723]\n",
            "Best fit = 5.256883260487976\n"
          ]
        }
      ]
    },
    {
      "cell_type": "markdown",
      "metadata": {
        "id": "1SNgvAmt7QPe"
      },
      "source": [
        "After 100 generations we can see that std parameter is almost zero and muations range is not wide enough, to improve this let's change some parameters:"
      ]
    },
    {
      "cell_type": "code",
      "metadata": {
        "id": "p-nLbGYe7dHq"
      },
      "source": [
        "# we have a lot of local optimums, let's set a large probability of mutation to avoid stucking\n",
        "scenario.mut_prob = 0.9\n",
        "# it was found empirically that mutShuffleIndexes mutation allows to find individuals close to the optimum quickly\n",
        "# mutFlipBit is also a good option, but it stucks around values close to 9.5\n",
        "scenario.engine.register(\"mutate\", tools.mutShuffleIndexes, indpb=0.9)\n",
        "# we use low probability of crossover to have a large variety of individuals\n",
        "scenario.cross_prob = 0.1"
      ],
      "execution_count": 22,
      "outputs": []
    },
    {
      "cell_type": "code",
      "metadata": {
        "colab": {
          "base_uri": "https://localhost:8080/"
        },
        "id": "48sE3VwrDduZ",
        "outputId": "5256fe56-b293-42a1-a7bf-75c15b9b30d0"
      },
      "source": [
        "scenario.iterations = 200\n",
        "log = scenario.run()"
      ],
      "execution_count": 24,
      "outputs": [
        {
          "output_type": "stream",
          "name": "stdout",
          "text": [
            "gen\tnevals\tavg    \tstd     \tmin    \tmax    \n",
            "0  \t100   \t3.92602\t0.163168\t3.56662\t4.39822\n",
            "10 \t80    \t4.74388\t0.0504723\t4.61805\t4.77802\n",
            "20 \t80    \t5.46455\t0.0452778\t5.38005\t5.52931\n",
            "30 \t80    \t6.29917\t0.107608 \t6.02573\t6.56563\n",
            "40 \t80    \t6.9194 \t0.0244258\t6.90455\t6.96296\n",
            "50 \t80    \t7.29282\t0.0172119\t7.26977\t7.34374\n",
            "60 \t80    \t7.63442\t0.0559315\t7.55274\t7.72361\n",
            "70 \t80    \t8.05841\t0.0306512\t7.95931\t8.13722\n",
            "80 \t80    \t8.27015\t0.0335   \t8.20695\t8.32517\n",
            "90 \t80    \t8.48712\t0.0169772\t8.47845\t8.52106\n",
            "100\t80    \t8.71135\t0.0145748\t8.68815\t8.79336\n",
            "110\t80    \t9.01342\t0.025579 \t8.95161\t9.06836\n",
            "120\t80    \t9.27096\t0.0261339\t9.20188\t9.32725\n",
            "130\t80    \t9.59393\t0.0600722\t9.54156\t9.67695\n",
            "140\t80    \t9.859  \t0.00722826\t9.81886\t9.8644 \n",
            "150\t80    \t9.93647\t0.00881135\t9.92573\t9.95263\n",
            "160\t80    \t9.96886\t0.00022908\t9.96853\t9.9693 \n",
            "170\t80    \t9.97008\t1.77636e-15\t9.97008\t9.97008\n",
            "180\t80    \t9.97008\t1.77636e-15\t9.97008\t9.97008\n",
            "190\t80    \t9.97008\t1.77636e-15\t9.97008\t9.97008\n",
            "200\t80    \t9.97008\t1.77636e-15\t9.97008\t9.97008\n",
            "Best = [0.01145697 0.01145697 0.01145697 0.01145697 0.01145697 0.01145697\n",
            " 0.01145697 0.01145697 0.01145697 0.01145697 0.01145697 0.01145697\n",
            " 0.01145697 0.01145697 0.01145697 0.01145697 0.01145697 0.01145697\n",
            " 0.01145697 0.01145697 0.01145697 0.01145697 0.01145697 0.01145697\n",
            " 0.01145697 0.01145697 0.01145697 0.01145697 0.01145697 0.01145697\n",
            " 0.01145697 0.01145697 0.01145697 0.01145697 0.01145697 0.01145697\n",
            " 0.01145697 0.01145697 0.01145697 0.01145697 0.01145697 0.01145697\n",
            " 0.01145697 0.01145697 0.01145697 0.01145697 0.01145697 0.01145697\n",
            " 0.01145697 0.01145697 0.01145697 0.01145697 0.01145697 0.01145697\n",
            " 0.01145697 0.01145697 0.01145697 0.01145697 0.01145697 0.01145697\n",
            " 0.01145697 0.01145697 0.01145697 0.01145697 0.01145697 0.01145697\n",
            " 0.01145697 0.01145697 0.01145697 0.01145697 0.01145697 0.01145697\n",
            " 0.01145697 0.01145697 0.01145697 0.01145697 0.01145697 0.01145697\n",
            " 0.01145697 0.01145697 0.01145697 0.01145697 0.01145697 0.01145697\n",
            " 0.01145697 0.01145697 0.01145697 0.01145697 0.01145697 0.01145697\n",
            " 0.01145697 0.01145697 0.01145697 0.01145697 0.01145697 0.01145697\n",
            " 0.01145697 0.01145697 0.01145697 0.01145697]\n",
            "Best fit = 9.970081327530892\n"
          ]
        }
      ]
    },
    {
      "cell_type": "markdown",
      "metadata": {
        "id": "qaFr7cMxCZhI"
      },
      "source": [
        "We found a good result almost immediately in 200 iterations, let's check how often we can have this result:"
      ]
    },
    {
      "cell_type": "code",
      "metadata": {
        "colab": {
          "base_uri": "https://localhost:8080/"
        },
        "id": "x4leq0FkBpO-",
        "outputId": "efa8d3c1-389a-4a09-b6b2-55e7612c134b"
      },
      "source": [
        "tries = 100\n",
        "best_fit = []\n",
        "for i in range(tries):\n",
        "  log = scenario.run(update_log = 'no')\n",
        "  best_fit.append(scenario.best_fit)\n",
        "  if not (i+1)%10:\n",
        "    print(f'{i+1} iterations are ready')"
      ],
      "execution_count": 25,
      "outputs": [
        {
          "output_type": "stream",
          "name": "stdout",
          "text": [
            "10 iterations are ready\n",
            "20 iterations are ready\n",
            "30 iterations are ready\n",
            "40 iterations are ready\n",
            "50 iterations are ready\n",
            "60 iterations are ready\n",
            "70 iterations are ready\n",
            "80 iterations are ready\n",
            "90 iterations are ready\n",
            "100 iterations are ready\n"
          ]
        }
      ]
    },
    {
      "cell_type": "code",
      "metadata": {
        "colab": {
          "base_uri": "https://localhost:8080/",
          "height": 283
        },
        "id": "wm0lTY1wCSb7",
        "outputId": "52adc878-aa8d-4f6f-f190-d687dbe698ff"
      },
      "source": [
        "import matplotlib.pyplot as plt\n",
        "\n",
        "plt.hist(best_fit, density=True, bins = 60)\n",
        "plt.ylabel('Frequency')\n",
        "plt.xlabel('Found optimums');"
      ],
      "execution_count": 29,
      "outputs": [
        {
          "output_type": "display_data",
          "data": {
            "image/png": "[encoded data removed]",
            "text/plain": [
              "<Figure size 432x288 with 1 Axes>"
            ]
          },
          "metadata": {
            "needs_background": "light"
          }
        }
      ]
    },
    {
      "cell_type": "code",
      "metadata": {
        "colab": {
          "base_uri": "https://localhost:8080/"
        },
        "id": "DIY5ZgX1IKZ4",
        "outputId": "dfdcb3d6-f577-49f7-c659-1d6a5201bbfa"
      },
      "source": [
        "percent = sum(i >= 9.5 for i in best_fit)/len(best_fit)\n",
        "print('Percentage of values that are equal or more than 9.5 =', percent)"
      ],
      "execution_count": 30,
      "outputs": [
        {
          "output_type": "stream",
          "name": "stdout",
          "text": [
            "Percentage of values that are equal or more than 9.5 = 0.77\n"
          ]
        }
      ]
    },
    {
      "cell_type": "markdown",
      "metadata": {
        "id": "cpj8YrAhHXsA"
      },
      "source": [
        "As a result we can see that in the majority of cases we are able to find an optimum > 9.5 just in 200 iteratinons by applying following changes:\n",
        "+ scenario.mut_prob = 0.9\n",
        "+ scenario.engine.register(\"mutate\", tools.mutShuffleIndexes, indpb=0.9)\n",
        "+ scenario.cross_prob = 0.1"
      ]
    }
  ]
}