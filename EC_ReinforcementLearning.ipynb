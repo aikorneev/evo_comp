{
  "nbformat": 4,
  "nbformat_minor": 0,
  "metadata": {
    "colab": {
      "name": "EVO_lab2.ipynb",
      "provenance": [],
      "collapsed_sections": []
    },
    "kernelspec": {
      "display_name": "Python 3",
      "name": "python3"
    },
    "language_info": {
      "name": "python"
    }
  },
  "cells": [
    {
      "cell_type": "markdown",
      "metadata": {
        "id": "vAVua5o9rJw-"
      },
      "source": [
        "# Evolutionary computing: lab2\n",
        "\n",
        "The aim of lab is to learn a reinforcement learning agent to play simple GYM environment (LunarLander-v2). The agent is a neural network that takes as input current state of a game and outputs probabilities for actions. (https://gym.openai.com/).\n",
        "\n",
        "You have a pattern script with main structure of algorithm, but you have to repair it or change it completely, as you wish. You can change current mutation, crossover, selection, evolution scheme or even use another algorithm as PSO.  To use LunarLander, you need to uncomment config for it, because by default it is stand for CartPole environment.\n",
        "\n",
        "As for LunarLander, the agent receives following rewards: -0.1 for each time you launch the engine, -100 for broke and +200 for successful landing. Therefore, good results starts from +100 approximately.\n",
        "\n",
        "Please, work with this script and try to learn the agent how to play and achieve good scores. Lets say about restriction:\n",
        "max_pop_size = 20;\n",
        "maximum_iterations = 200."
      ]
    },
    {
      "cell_type": "markdown",
      "metadata": {
        "id": "_x6QTutrrgol"
      },
      "source": [
        "Libraries installing"
      ]
    },
    {
      "cell_type": "code",
      "metadata": {
        "colab": {
          "base_uri": "https://localhost:8080/"
        },
        "id": "n9JfJOoq31kh",
        "outputId": "d0eb1900-c76f-4c66-9a56-f97630550bd2"
      },
      "source": [
        "!pip install deap"
      ],
      "execution_count": 1,
      "outputs": [
        {
          "output_type": "stream",
          "name": "stdout",
          "text": [
            "Collecting deap\n",
            "  Downloading deap-1.3.1-cp37-cp37m-manylinux_2_5_x86_64.manylinux1_x86_64.manylinux_2_12_x86_64.manylinux2010_x86_64.whl (160 kB)\n",
            "\u001b[?25l\r\u001b[K     |██                              | 10 kB 22.1 MB/s eta 0:00:01\r\u001b[K     |████                            | 20 kB 27.9 MB/s eta 0:00:01\r\u001b[K     |██████                          | 30 kB 22.1 MB/s eta 0:00:01\r\u001b[K     |████████▏                       | 40 kB 17.3 MB/s eta 0:00:01\r\u001b[K     |██████████▏                     | 51 kB 18.7 MB/s eta 0:00:01\r\u001b[K     |████████████▏                   | 61 kB 20.0 MB/s eta 0:00:01\r\u001b[K     |██████████████▎                 | 71 kB 19.8 MB/s eta 0:00:01\r\u001b[K     |████████████████▎               | 81 kB 20.2 MB/s eta 0:00:01\r\u001b[K     |██████████████████▎             | 92 kB 20.7 MB/s eta 0:00:01\r\u001b[K     |████████████████████▍           | 102 kB 21.5 MB/s eta 0:00:01\r\u001b[K     |██████████████████████▍         | 112 kB 21.5 MB/s eta 0:00:01\r\u001b[K     |████████████████████████▍       | 122 kB 21.5 MB/s eta 0:00:01\r\u001b[K     |██████████████████████████▌     | 133 kB 21.5 MB/s eta 0:00:01\r\u001b[K     |████████████████████████████▌   | 143 kB 21.5 MB/s eta 0:00:01\r\u001b[K     |██████████████████████████████▌ | 153 kB 21.5 MB/s eta 0:00:01\r\u001b[K     |████████████████████████████████| 160 kB 21.5 MB/s \n",
            "\u001b[?25hRequirement already satisfied: numpy in /usr/local/lib/python3.7/dist-packages (from deap) (1.19.5)\n",
            "Installing collected packages: deap\n",
            "Successfully installed deap-1.3.1\n"
          ]
        }
      ]
    },
    {
      "cell_type": "code",
      "metadata": {
        "colab": {
          "base_uri": "https://localhost:8080/"
        },
        "id": "DDspxTuH8Co0",
        "outputId": "3c154827-4cda-48c7-9274-6820067d7dd7"
      },
      "source": [
        "!pip3 install box2d-py"
      ],
      "execution_count": 2,
      "outputs": [
        {
          "output_type": "stream",
          "name": "stdout",
          "text": [
            "Collecting box2d-py\n",
            "  Downloading box2d_py-2.3.8-cp37-cp37m-manylinux1_x86_64.whl (448 kB)\n",
            "\u001b[?25l\r\u001b[K     |▊                               | 10 kB 24.3 MB/s eta 0:00:01\r\u001b[K     |█▌                              | 20 kB 27.4 MB/s eta 0:00:01\r\u001b[K     |██▏                             | 30 kB 31.3 MB/s eta 0:00:01\r\u001b[K     |███                             | 40 kB 33.0 MB/s eta 0:00:01\r\u001b[K     |███▋                            | 51 kB 35.3 MB/s eta 0:00:01\r\u001b[K     |████▍                           | 61 kB 37.5 MB/s eta 0:00:01\r\u001b[K     |█████▏                          | 71 kB 39.4 MB/s eta 0:00:01\r\u001b[K     |█████▉                          | 81 kB 40.0 MB/s eta 0:00:01\r\u001b[K     |██████▋                         | 92 kB 41.1 MB/s eta 0:00:01\r\u001b[K     |███████▎                        | 102 kB 37.7 MB/s eta 0:00:01\r\u001b[K     |████████                        | 112 kB 37.7 MB/s eta 0:00:01\r\u001b[K     |████████▊                       | 122 kB 37.7 MB/s eta 0:00:01\r\u001b[K     |█████████▌                      | 133 kB 37.7 MB/s eta 0:00:01\r\u001b[K     |██████████▎                     | 143 kB 37.7 MB/s eta 0:00:01\r\u001b[K     |███████████                     | 153 kB 37.7 MB/s eta 0:00:01\r\u001b[K     |███████████▊                    | 163 kB 37.7 MB/s eta 0:00:01\r\u001b[K     |████████████▍                   | 174 kB 37.7 MB/s eta 0:00:01\r\u001b[K     |█████████████▏                  | 184 kB 37.7 MB/s eta 0:00:01\r\u001b[K     |█████████████▉                  | 194 kB 37.7 MB/s eta 0:00:01\r\u001b[K     |██████████████▋                 | 204 kB 37.7 MB/s eta 0:00:01\r\u001b[K     |███████████████▍                | 215 kB 37.7 MB/s eta 0:00:01\r\u001b[K     |████████████████                | 225 kB 37.7 MB/s eta 0:00:01\r\u001b[K     |████████████████▉               | 235 kB 37.7 MB/s eta 0:00:01\r\u001b[K     |█████████████████▌              | 245 kB 37.7 MB/s eta 0:00:01\r\u001b[K     |██████████████████▎             | 256 kB 37.7 MB/s eta 0:00:01\r\u001b[K     |███████████████████             | 266 kB 37.7 MB/s eta 0:00:01\r\u001b[K     |███████████████████▊            | 276 kB 37.7 MB/s eta 0:00:01\r\u001b[K     |████████████████████▌           | 286 kB 37.7 MB/s eta 0:00:01\r\u001b[K     |█████████████████████▏          | 296 kB 37.7 MB/s eta 0:00:01\r\u001b[K     |██████████████████████          | 307 kB 37.7 MB/s eta 0:00:01\r\u001b[K     |██████████████████████▋         | 317 kB 37.7 MB/s eta 0:00:01\r\u001b[K     |███████████████████████▍        | 327 kB 37.7 MB/s eta 0:00:01\r\u001b[K     |████████████████████████        | 337 kB 37.7 MB/s eta 0:00:01\r\u001b[K     |████████████████████████▉       | 348 kB 37.7 MB/s eta 0:00:01\r\u001b[K     |█████████████████████████▋      | 358 kB 37.7 MB/s eta 0:00:01\r\u001b[K     |██████████████████████████▎     | 368 kB 37.7 MB/s eta 0:00:01\r\u001b[K     |███████████████████████████     | 378 kB 37.7 MB/s eta 0:00:01\r\u001b[K     |███████████████████████████▊    | 389 kB 37.7 MB/s eta 0:00:01\r\u001b[K     |████████████████████████████▌   | 399 kB 37.7 MB/s eta 0:00:01\r\u001b[K     |█████████████████████████████▏  | 409 kB 37.7 MB/s eta 0:00:01\r\u001b[K     |██████████████████████████████  | 419 kB 37.7 MB/s eta 0:00:01\r\u001b[K     |██████████████████████████████▊ | 430 kB 37.7 MB/s eta 0:00:01\r\u001b[K     |███████████████████████████████▍| 440 kB 37.7 MB/s eta 0:00:01\r\u001b[K     |████████████████████████████████| 448 kB 37.7 MB/s \n",
            "\u001b[?25hInstalling collected packages: box2d-py\n",
            "Successfully installed box2d-py-2.3.8\n"
          ]
        }
      ]
    },
    {
      "cell_type": "code",
      "metadata": {
        "colab": {
          "base_uri": "https://localhost:8080/"
        },
        "id": "iMdwQTAh8Vdq",
        "outputId": "ffe45169-e954-4451-e908-1f17ddb05010"
      },
      "source": [
        "!pip3 install gym[Box_2D]"
      ],
      "execution_count": 3,
      "outputs": [
        {
          "output_type": "stream",
          "name": "stdout",
          "text": [
            "Requirement already satisfied: gym[Box_2D] in /usr/local/lib/python3.7/dist-packages (0.17.3)\n",
            "\u001b[33mWARNING: gym 0.17.3 does not provide the extra 'box_2d'\u001b[0m\n",
            "Requirement already satisfied: scipy in /usr/local/lib/python3.7/dist-packages (from gym[Box_2D]) (1.4.1)\n",
            "Requirement already satisfied: pyglet<=1.5.0,>=1.4.0 in /usr/local/lib/python3.7/dist-packages (from gym[Box_2D]) (1.5.0)\n",
            "Requirement already satisfied: cloudpickle<1.7.0,>=1.2.0 in /usr/local/lib/python3.7/dist-packages (from gym[Box_2D]) (1.3.0)\n",
            "Requirement already satisfied: numpy>=1.10.4 in /usr/local/lib/python3.7/dist-packages (from gym[Box_2D]) (1.19.5)\n",
            "Requirement already satisfied: future in /usr/local/lib/python3.7/dist-packages (from pyglet<=1.5.0,>=1.4.0->gym[Box_2D]) (0.16.0)\n"
          ]
        }
      ]
    },
    {
      "cell_type": "code",
      "metadata": {
        "id": "O29bNqqV3eNs"
      },
      "source": [
        "from deap import tools, base, creator\n",
        "import numpy as np\n",
        "import numpy.random as rnd\n",
        "from tensorflow.keras import Sequential\n",
        "from tensorflow.keras.layers import Dense, InputLayer\n",
        "import gym\n",
        "from copy import deepcopy\n",
        "import matplotlib.pyplot as plt\n",
        "import random"
      ],
      "execution_count": 4,
      "outputs": []
    },
    {
      "cell_type": "markdown",
      "metadata": {
        "id": "z3Jo9Ftar4bJ"
      },
      "source": [
        "Functions for logging"
      ]
    },
    {
      "cell_type": "code",
      "metadata": {
        "id": "wpLnvfaA4MzR"
      },
      "source": [
        "def read_log(log):\n",
        "    avg_list = list()\n",
        "    std_list = list()\n",
        "    min_list = list()\n",
        "    max_list = list()\n",
        "    gen_list = list()\n",
        "    for g in log:\n",
        "        avg_list.append(g['avg'])\n",
        "        std_list.append(g['std'])\n",
        "        min_list.append(g['min'])\n",
        "        max_list.append(g['max'])\n",
        "        gen_list.append(g['gen'])\n",
        "    return np.array(gen_list), np.array(avg_list), np.array(std_list), np.array(max_list), np.array(min_list)\n",
        "\n",
        "def draw_log(log):\n",
        "    gen_list, avg_list, std_list, max_list, min_list = read_log(log)\n",
        "    plt.plot(gen_list, avg_list, label=\"avg\")\n",
        "    plt.plot(gen_list, min_list, label=\"min\")\n",
        "    plt.plot(gen_list, max_list, label=\"max\")\n",
        "    plt.fill_between(gen_list, avg_list-std_list, avg_list+std_list, alpha=0.2)\n",
        "    plt.legend()\n",
        "    plt.tight_layout()\n",
        "    plt.show()\n",
        "\n",
        "def draw_logs(log1, log2, lab1, lab2):\n",
        "    gen1, avg1, std1, max1, min1 = read_log(log1)\n",
        "    gen2, avg2, std2, max2, min2 = read_log(log2)\n",
        "    plt.plot(gen1, avg1, label=lab1, color=\"blue\")\n",
        "    plt.plot(gen1, max1, label=\"{}_max\".format(lab1), color=\"blue\", linewidth=2)\n",
        "    plt.fill_between(gen1, avg1 - std1, avg1 + std1, alpha=0.2, color=\"blue\")\n",
        "    plt.plot(gen2, avg2, label=lab2, color=\"orange\")\n",
        "    plt.plot(gen2, max2, label=\"{}_max\".format(lab2), color=\"orange\", linewidth=2)\n",
        "    plt.fill_between(gen2, avg2 - std2, avg2 + std2, alpha=0.2, color=\"orange\")\n",
        "    plt.legend()\n",
        "    plt.tight_layout()\n",
        "    plt.show()\n"
      ],
      "execution_count": 5,
      "outputs": []
    },
    {
      "cell_type": "markdown",
      "metadata": {
        "id": "-TgFIvZjrfvi"
      },
      "source": [
        "Here we describe eaMuPlusLambda algorithm (mu - population size, lambda - number of individuals after crossover, the next generation is formed both from new individuals and old ones"
      ]
    },
    {
      "cell_type": "code",
      "metadata": {
        "id": "VW3E9Sls3y_P"
      },
      "source": [
        "def varOr(population, toolbox, lambda_, cxpb, mutpb):\n",
        "    offspring = []\n",
        "    for _ in range(lambda_):\n",
        "        op_choice = random.random()\n",
        "        if op_choice < cxpb:            # Apply crossover\n",
        "            ind1, ind2 = list(map(toolbox.clone, random.sample(population, 2)))\n",
        "            ind1, ind2 = toolbox.mate(ind1, ind2)\n",
        "            del ind1.fitness.values\n",
        "            del ind2.fitness.values\n",
        "            offspring.append(ind1)\n",
        "        elif op_choice < cxpb + mutpb:  # Apply mutation\n",
        "            ind = toolbox.clone(random.choice(population))\n",
        "            ind, = toolbox.mutate(ind)\n",
        "            del ind.fitness.values\n",
        "            offspring.append(ind)\n",
        "        else:                           # Apply reproduction\n",
        "            offspring.append(toolbox.clone(random.choice(population)))\n",
        "\n",
        "    return offspring\n",
        "\n",
        "\n",
        "def eaMuPlusLambda(population, toolbox, mu, lambda_, cxpb, mutpb, ngen,\n",
        "                   stats=None, halloffame=None, verbose=__debug__):\n",
        "    logbook = tools.Logbook()\n",
        "    logbook.header = ['gen', 'nevals'] + (stats.fields if stats else [])\n",
        "\n",
        "    # Evaluate the individuals with an invalid fitness\n",
        "    invalid_ind = [ind for ind in population if not ind.fitness.valid]\n",
        "    fitnesses = toolbox.map(toolbox.evaluate, invalid_ind)\n",
        "    for ind, fit in zip(invalid_ind, fitnesses):\n",
        "        ind.fitness.values = fit\n",
        "\n",
        "    if halloffame is not None:\n",
        "        halloffame.update(population)\n",
        "\n",
        "    record = stats.compile(population) if stats is not None else {}\n",
        "    logbook.record(gen=0, nevals=len(invalid_ind), **record)\n",
        "    if verbose:\n",
        "        print(logbook.stream)\n",
        "\n",
        "    # Begin the generational process\n",
        "    for gen in range(1, ngen + 1):\n",
        "        # Vary the population\n",
        "        if halloffame is not None:\n",
        "            for ind in halloffame:\n",
        "                population.append(toolbox.clone(ind))\n",
        "        offspring = varOr(population, toolbox, lambda_, cxpb, mutpb)\n",
        "\n",
        "        # Evaluate the individuals with an invalid fitness\n",
        "        invalid_ind = [ind for ind in offspring if not ind.fitness.valid]\n",
        "        fitnesses = toolbox.map(toolbox.evaluate, invalid_ind)\n",
        "        for ind, fit in zip(invalid_ind, fitnesses):\n",
        "            ind.fitness.values = fit\n",
        "\n",
        "        # Update the hall of fame with the generated individuals\n",
        "        if halloffame is not None:\n",
        "            halloffame.update(offspring)\n",
        "\n",
        "        # Select the next generation population\n",
        "        population[:] = toolbox.select(population + offspring, mu)\n",
        "\n",
        "        # Update the statistics with the new population\n",
        "        record = stats.compile(population) if stats is not None else {}\n",
        "        logbook.record(gen=gen, nevals=len(invalid_ind), **record)\n",
        "        if verbose:\n",
        "            print(logbook.stream)\n",
        "\n",
        "    return population, logbook\n"
      ],
      "execution_count": 21,
      "outputs": []
    },
    {
      "cell_type": "markdown",
      "metadata": {
        "id": "iNxAVVD4sU_M"
      },
      "source": [
        "# Reinforcement Learning Experiment"
      ]
    },
    {
      "cell_type": "code",
      "metadata": {
        "id": "CsVYc9oo4nXz"
      },
      "source": [
        "class RL_ga_experiment:\n",
        "    def factory(self):\n",
        "        individual = list()\n",
        "        for i in range(len(self.params)):\n",
        "            if i % 2 == 0:\n",
        "                individual.append(rnd.normal(0.1, 0.3, size=self.params[i].shape))\n",
        "            else:\n",
        "                individual.append(np.zeros(shape=self.params[i].shape))\n",
        "        return creator.Individual(individual)\n",
        "\n",
        "    def mutation(self, individual):\n",
        "        for i in range(len(individual)):\n",
        "            if i % 2 == 0:\n",
        "                for j in range(len(individual[i])):\n",
        "                    for k in range(len(individual[i][j])):\n",
        "                        if rnd.random() < 0.15:\n",
        "                            individual[i][j] += rnd.normal(0.0, 0.2)\n",
        "\n",
        "        return individual,\n",
        "\n",
        "\n",
        "    def crossover(self, p1, p2):\n",
        "\n",
        "        c1 = list()\n",
        "        c2 = list()\n",
        "\n",
        "        c1.append(deepcopy(p1[0]))\n",
        "        c1.append(deepcopy(p1[1])) # zero\n",
        "        c1.append(deepcopy(p2[2]))\n",
        "        c1.append(deepcopy(p1[3])) # zero\n",
        "        c1.append(deepcopy(p1[4]))\n",
        "        c1.append(deepcopy(p1[5])) # zero\n",
        "\n",
        "        c2.append(deepcopy(p2[0]))\n",
        "        c2.append(deepcopy(p2[1]))  # zero\n",
        "        c2.append(deepcopy(p1[2]))\n",
        "        c2.append(deepcopy(p2[3]))  # zero\n",
        "        c2.append(deepcopy(p2[4]))\n",
        "        c2.append(deepcopy(p2[5]))  # zero\n",
        "\n",
        "        return creator.Individual(c1), creator.Individual(c2)\n",
        "\n",
        "    def __init__(self, input_dim, l1, l2, output_dim, pop_size, iterations):\n",
        "        self.input_dim = input_dim\n",
        "        self.output_dim = output_dim\n",
        "        self.l1 = l1\n",
        "        self.l2 = l2\n",
        "        self.pop_size = pop_size\n",
        "        self.iterations = iterations\n",
        "\n",
        "        self.model = self.build_model()\n",
        "        self.params = self.model.get_weights()\n",
        "\n",
        "        self.mut_prob = 0.4\n",
        "        self.cxpb = 0.4\n",
        "        #self.env = gym.make(\"CartPole-v0\")\n",
        "        # todo uncomment for LunarLander\n",
        "        self.env = gym.make(\"LunarLander-v2\")\n",
        "\n",
        "        self.engine = base.Toolbox()\n",
        "        self.engine.register('map', map)\n",
        "        self.engine.register(\"individual\", tools.initIterate, creator.Individual, self.factory)\n",
        "        self.engine.register('population', tools.initRepeat, list, self.engine.individual, self.pop_size)\n",
        "        self.engine.register('mutate', self.mutation)\n",
        "        self.engine.register(\"mate\", self.crossover)\n",
        "        self.engine.register('select', tools.selTournament, tournsize=3)\n",
        "        self.engine.register('evaluate', self.fitness)\n",
        "        self.render = False\n",
        "\n",
        "        self.best_fit = None\n",
        "\n",
        "    def compare(self, ind1, ind2):\n",
        "        result = True\n",
        "        for i in range(len(ind1)):\n",
        "            if i % 2 == 0:\n",
        "                for j in range(len(ind1[i])):\n",
        "                    for k in range(len(ind1[i][j])):\n",
        "                        if ind1[i][j][k] != ind2[i][j][k]:\n",
        "                            return False\n",
        "\n",
        "        return result\n",
        "\n",
        "    def run(self, update_log = 'yes'):\n",
        "        pop = self.engine.population()\n",
        "        hof = tools.HallOfFame(3, similar=self.compare)\n",
        "        stats = tools.Statistics(lambda ind: ind.fitness.values[0])\n",
        "        stats.register('min', np.min)\n",
        "        stats.register('max', np.max)\n",
        "        stats.register('avg', np.mean)\n",
        "        stats.register('std', np.std)\n",
        "\n",
        "        pop, log = eaMuPlusLambda(pop, self.engine, mu=self.pop_size, lambda_=int(0.8 * self.pop_size), cxpb=self.cxpb, mutpb=self.mut_prob,\n",
        "                                  ngen=self.iterations, halloffame=hof, stats=stats, verbose=True if update_log == 'yes' else False)\n",
        "        best = hof[0]\n",
        "        if update_log == 'yes':\n",
        "          print(\"Best fitness = {}\".format(best.fitness.values[0]))\n",
        "        self.best_fit = hof[0].fitness.values[0]\n",
        "        return log, best\n",
        "\n",
        "\n",
        "    def build_model(self):\n",
        "        model = Sequential()\n",
        "        model.add(InputLayer(self.input_dim))\n",
        "        model.add(Dense(self.l1, activation='relu'))\n",
        "        model.add(Dense(self.l2, activation='relu'))\n",
        "        model.add(Dense(self.output_dim, activation='softmax'))\n",
        "        model.compile(optimizer='adam', loss='mse')\n",
        "        return model\n",
        "\n",
        "    def fitness(self, individual):\n",
        "        self.model.set_weights(individual)\n",
        "        scores = []\n",
        "        for _ in range(1):\n",
        "            state = self.env.reset()\n",
        "            score = 0.0\n",
        "            for t in range(200):\n",
        "                if self.render:\n",
        "                    self.env.render()\n",
        "                act_prob = self.model.predict(state.reshape(1, self.input_dim)).squeeze()\n",
        "                action = rnd.choice(np.arange(self.output_dim), 1, p=act_prob)[0]\n",
        "                next_state, reward, done, _ = self.env.step(action)\n",
        "                score += reward\n",
        "                state = next_state\n",
        "                if done:\n",
        "                    break\n",
        "            scores.append(score)\n",
        "        return np.mean(scores),"
      ],
      "execution_count": 7,
      "outputs": []
    },
    {
      "cell_type": "code",
      "metadata": {
        "id": "lhJ8eVKj4We5"
      },
      "source": [
        "creator.create(\"BaseFitness\", base.Fitness, weights=(1.0, ))\n",
        "creator.create(\"Individual\", list, fitness=creator.BaseFitness)"
      ],
      "execution_count": 8,
      "outputs": []
    },
    {
      "cell_type": "code",
      "metadata": {
        "id": "0-yG6AKU3uG8"
      },
      "source": [
        "#max_pop_size = 20\n",
        "#maximum_iterations = 200\n",
        "# config for Lunar Lander\n",
        "input_dim = 8\n",
        "l1 = 64\n",
        "l2 = 16\n",
        "output_dim = 4\n",
        "\n",
        "pop_size = 10\n",
        "iterations = 10"
      ],
      "execution_count": 11,
      "outputs": []
    },
    {
      "cell_type": "code",
      "metadata": {
        "id": "92QzjhwACrsy"
      },
      "source": [
        "exp = RL_ga_experiment(input_dim, l1, l2, output_dim, pop_size, iterations)\n",
        "exp.render = False"
      ],
      "execution_count": null,
      "outputs": []
    },
    {
      "cell_type": "code",
      "metadata": {
        "colab": {
          "base_uri": "https://localhost:8080/"
        },
        "id": "vsiDW0yh4u-A",
        "outputId": "c82dbe5b-843e-492f-b1b5-6c4147a7ae4e"
      },
      "source": [
        "log, best = exp.run()"
      ],
      "execution_count": null,
      "outputs": [
        {
          "name": "stdout",
          "output_type": "stream",
          "text": [
            "gen\tnevals\tmin     \tmax     \tavg     \tstd    \n",
            "0  \t10    \t-875.711\t-97.8534\t-453.603\t231.764\n",
            "1  \t8     \t-676.192\t-139.998\t-313.718\t144.014\n",
            "2  \t4     \t-338.59 \t-97.8534\t-153.977\t75.2596\n",
            "3  \t6     \t-139.998\t-97.8534\t-118.789\t18.4752\n",
            "4  \t7     \t-138.852\t-97.8534\t-108.586\t14.1258\n",
            "5  \t7     \t-119.962\t-91.1058\t-101.878\t8.08937\n",
            "6  \t6     \t-97.8534\t-91.1058\t-93.1301\t3.09216\n",
            "7  \t6     \t-97.8534\t-91.1058\t-92.4553\t2.69906\n",
            "8  \t5     \t-97.8534\t-91.1058\t-92.0721\t2.02822\n",
            "9  \t8     \t-122.792\t-61.8822\t-92.3611\t13.9432\n",
            "10 \t7     \t-95.3347\t-61.8822\t-83.2713\t14.0883\n",
            "Best fitness = -61.882152145930746\n"
          ]
        }
      ]
    },
    {
      "cell_type": "code",
      "metadata": {
        "colab": {
          "base_uri": "https://localhost:8080/",
          "height": 297
        },
        "id": "hSoalV454weH",
        "outputId": "a641429d-e1c3-48a2-f1e5-d6e1875ff420"
      },
      "source": [
        "draw_log(log)"
      ],
      "execution_count": null,
      "outputs": [
        {
          "data": {
            "image/png": "[encoded data removed]",
            "text/plain": [
              "<Figure size 432x288 with 1 Axes>"
            ]
          },
          "metadata": {},
          "output_type": "display_data"
        }
      ]
    },
    {
      "cell_type": "markdown",
      "metadata": {
        "id": "DebLw-095HWo"
      },
      "source": [
        "For LunarLander, the agent receives following rewards: -0.1 for each time you launch the engine, -100 for broke and +200 for successful landing. "
      ]
    },
    {
      "cell_type": "markdown",
      "metadata": {
        "id": "xKr1zkpbssF_"
      },
      "source": [
        "Default results are not so good, we can see that best fitness is still negative. Let's try to change some features of evolution algorithm:"
      ]
    },
    {
      "cell_type": "markdown",
      "metadata": {
        "id": "l2fsNj5VFyhy"
      },
      "source": [
        "Changing of crossover function: add more random features intersection"
      ]
    },
    {
      "cell_type": "code",
      "metadata": {
        "id": "aHvrkdrcEsJG"
      },
      "source": [
        "def new_crossover(p1, p2):\n",
        "\n",
        "        c1 = list()\n",
        "        c2 = list()\n",
        "\n",
        "        # generate n (n<=len(p1)) different numbers from 0 to len(n)\n",
        "        n = rnd.randint(0, len(p1) + 1)\n",
        "        mas = list()\n",
        "        for i in range(n):\n",
        "          candidat = rnd.randint(0, len(p1))\n",
        "          while candidat in mas:\n",
        "            candidat = rnd.randint(0, len(p1))\n",
        "          mas.append(candidat)\n",
        "\n",
        "        # for c1 one chooses feature i from p1 only of if mas contains i \n",
        "        for i in range(0, len(p1)):\n",
        "          if i in mas:\n",
        "            c1.append(deepcopy(p1[i]))\n",
        "            c2.append(deepcopy(p2[i]))\n",
        "          else:\n",
        "            c1.append(deepcopy(p2[i]))\n",
        "            c2.append(deepcopy(p1[i]))\n",
        "\n",
        "        return creator.Individual(c1), creator.Individual(c2)"
      ],
      "execution_count": null,
      "outputs": []
    },
    {
      "cell_type": "code",
      "metadata": {
        "colab": {
          "base_uri": "https://localhost:8080/"
        },
        "id": "ry7GzduQGEca",
        "outputId": "1ab40857-a0ea-4455-c324-89fddb7d366e"
      },
      "source": [
        "exp.engine.register(\"mate\", new_crossover)\n",
        "log, best = exp.run()"
      ],
      "execution_count": null,
      "outputs": [
        {
          "name": "stdout",
          "output_type": "stream",
          "text": [
            "gen\tnevals\tmin     \tmax     \tavg     \tstd    \n",
            "0  \t10    \t-1243.42\t-101.551\t-458.018\t323.485\n",
            "1  \t8     \t-312.028\t-3.61899\t-117.744\t72.1884\n",
            "2  \t8     \t-101.551\t-3.61899\t-91.7574\t29.3795\n",
            "3  \t8     \t-101.551\t-3.61899\t-72.1711\t44.8779\n",
            "4  \t8     \t-101.551\t-3.61899\t-48.2372\t45.2492\n",
            "5  \t8     \t-101.551\t-3.61899\t-19.7101\t33.1176\n",
            "6  \t8     \t-101.551\t-3.61899\t-13.4122\t29.3795\n",
            "7  \t8     \t-99.2988\t-3.61899\t-22.3574\t37.4875\n",
            "8  \t8     \t-95.3237\t-3.61899\t-12.7895\t27.5114\n",
            "9  \t8     \t-3.61899\t-3.61899\t-3.61899\t0      \n",
            "10 \t8     \t-3.61899\t17.111  \t-0.580864\t6.56184\n",
            "Best fitness = 17.111009651568466\n"
          ]
        }
      ]
    },
    {
      "cell_type": "markdown",
      "metadata": {
        "id": "e549Djpbs5BR"
      },
      "source": [
        "Result seem to be a little bit better, but let's continue to change different aspects:"
      ]
    },
    {
      "cell_type": "markdown",
      "metadata": {
        "id": "BDPDgjao9sl5"
      },
      "source": [
        "Selection experiments"
      ]
    },
    {
      "cell_type": "code",
      "metadata": {
        "id": "8LAq7LcP9r_K"
      },
      "source": [
        "exp.engine.register('select', tools.selTournament, tournsize=5)"
      ],
      "execution_count": null,
      "outputs": []
    },
    {
      "cell_type": "code",
      "metadata": {
        "colab": {
          "base_uri": "https://localhost:8080/"
        },
        "id": "UD7w9dEn-BP4",
        "outputId": "63c7971e-95ed-48ae-a7eb-b135e80bde94"
      },
      "source": [
        "log, best = exp.run()"
      ],
      "execution_count": null,
      "outputs": [
        {
          "name": "stdout",
          "output_type": "stream",
          "text": [
            "gen\tnevals\tmin     \tmax     \tavg     \tstd    \n",
            "0  \t10    \t-775.812\t-73.6261\t-325.387\t225.599\n",
            "1  \t8     \t-272.184\t-73.6261\t-109.883\t58.1898\n",
            "2  \t3     \t-78.2396\t-73.6261\t-75.0101\t2.1142 \n",
            "3  \t7     \t-73.6261\t58.4875 \t-37.363 \t49.9977\n",
            "4  \t8     \t-73.6261\t58.4875 \t-9.77067\t56.7896\n",
            "5  \t5     \t-52.7962\t58.4875 \t17.9911 \t49.7332\n",
            "6  \t6     \t58.4875 \t58.4875 \t58.4875 \t7.10543e-15\n",
            "7  \t8     \t-52.7962\t58.4875 \t47.3591 \t33.3851    \n",
            "8  \t7     \t58.4875 \t58.4875 \t58.4875 \t7.10543e-15\n",
            "9  \t7     \t58.4875 \t58.4875 \t58.4875 \t7.10543e-15\n",
            "10 \t6     \t58.4875 \t58.4875 \t58.4875 \t7.10543e-15\n",
            "Best fitness = 58.48747529138379\n"
          ]
        }
      ]
    },
    {
      "cell_type": "code",
      "metadata": {
        "id": "5nR81tY7-L_S"
      },
      "source": [
        "exp.engine.register('select', tools.selRoulette)"
      ],
      "execution_count": null,
      "outputs": []
    },
    {
      "cell_type": "code",
      "metadata": {
        "colab": {
          "base_uri": "https://localhost:8080/"
        },
        "id": "yPorLi7R-h6s",
        "outputId": "e371497d-136e-444e-b699-5824a2b40dc6"
      },
      "source": [
        "log, best = exp.run()"
      ],
      "execution_count": null,
      "outputs": [
        {
          "name": "stdout",
          "output_type": "stream",
          "text": [
            "gen\tnevals\tmin     \tmax     \tavg     \tstd    \n",
            "0  \t10    \t-488.101\t-120.785\t-282.926\t108.339\n",
            "1  \t7     \t-107.457\t-107.457\t-107.457\t1.42109e-14\n",
            "2  \t6     \t-101.686\t-101.686\t-101.686\t1.42109e-14\n",
            "3  \t5     \t-92.0665\t-92.0665\t-92.0665\t0          \n",
            "4  \t6     \t-22.9746\t-22.9746\t-22.9746\t0          \n",
            "5  \t7     \t-19.2478\t-19.2478\t-19.2478\t3.55271e-15\n",
            "6  \t7     \t-19.2478\t-19.2478\t-19.2478\t3.55271e-15\n",
            "7  \t5     \t-19.2478\t-19.2478\t-19.2478\t3.55271e-15\n",
            "8  \t7     \t-19.2478\t-19.2478\t-19.2478\t3.55271e-15\n",
            "9  \t8     \t-19.2478\t-19.2478\t-19.2478\t3.55271e-15\n",
            "10 \t6     \t-19.2478\t-19.2478\t-19.2478\t3.55271e-15\n",
            "Best fitness = -19.24784116845906\n"
          ]
        }
      ]
    },
    {
      "cell_type": "markdown",
      "metadata": {
        "id": "S4wUZbJ2tIZG"
      },
      "source": [
        "We can see that tournament with size 5 works better then Roullette"
      ]
    },
    {
      "cell_type": "markdown",
      "metadata": {
        "id": "Hn7eIjEhEj-5"
      },
      "source": [
        "Mutation experiments"
      ]
    },
    {
      "cell_type": "code",
      "metadata": {
        "colab": {
          "base_uri": "https://localhost:8080/"
        },
        "id": "HNzhCA1RBypK",
        "outputId": "768f2a31-6e2f-4222-d849-998cb80f46e2"
      },
      "source": [
        "# let's set self.mut_prob\n",
        "exp.mut_prob = 0.7\n",
        "log, best = exp.run()"
      ],
      "execution_count": null,
      "outputs": [
        {
          "name": "stdout",
          "output_type": "stream",
          "text": [
            "gen\tnevals\tmin     \tmax     \tavg     \tstd    \n",
            "0  \t10    \t-643.423\t-92.0022\t-368.347\t159.868\n",
            "1  \t8     \t-467.155\t-92.0022\t-176.886\t115.336\n",
            "2  \t8     \t-163.324\t-92.0022\t-107.379\t24.8992\n",
            "3  \t8     \t-92.0022\t-26.012 \t-78.8042\t26.3961\n",
            "4  \t8     \t-92.0022\t-26.012 \t-78.8042\t26.3961\n",
            "5  \t8     \t-92.0022\t-9.37824\t-49.227 \t32.2774\n",
            "6  \t8     \t-92.0022\t-9.37824\t-31.7977\t29.219 \n",
            "7  \t8     \t-155.668\t-9.37824\t-30.6607\t42.4005\n",
            "8  \t8     \t-84.4139\t10.6022 \t-18.2105\t24.0891\n",
            "9  \t8     \t-84.4139\t10.6022 \t-8.88965\t26.879 \n",
            "10 \t8     \t-112.397\t10.6022 \t-9.6899 \t35.5077\n",
            "Best fitness = 10.602154806188835\n"
          ]
        }
      ]
    },
    {
      "cell_type": "code",
      "metadata": {
        "colab": {
          "base_uri": "https://localhost:8080/"
        },
        "id": "DdnEOtq4-jnh",
        "outputId": "bbff0fdf-834d-4faf-b927-dbbc9903d3ec"
      },
      "source": [
        "exp.engine.register('select', tools.selTournament, tournsize=5)\n",
        "log, best = exp.run()"
      ],
      "execution_count": null,
      "outputs": [
        {
          "name": "stdout",
          "output_type": "stream",
          "text": [
            "gen\tnevals\tmin   \tmax    \tavg   \tstd    \n",
            "0  \t10    \t-698.7\t-104.24\t-351.7\t199.024\n",
            "1  \t8     \t-143.639\t-104.24\t-116.989\t14.6301\n",
            "2  \t8     \t-112.466\t-38.3671\t-83.5335\t30.183 \n",
            "3  \t8     \t-86.567 \t16.176  \t-42.5528\t27.2878\n",
            "4  \t8     \t-38.3671\t16.176  \t-16.5499\t26.7205\n",
            "5  \t8     \t16.176  \t16.176  \t16.176  \t3.55271e-15\n",
            "6  \t8     \t16.176  \t16.176  \t16.176  \t3.55271e-15\n",
            "7  \t8     \t16.176  \t16.176  \t16.176  \t3.55271e-15\n",
            "8  \t8     \t16.176  \t16.176  \t16.176  \t3.55271e-15\n",
            "9  \t8     \t16.176  \t16.176  \t16.176  \t3.55271e-15\n",
            "10 \t8     \t16.176  \t16.176  \t16.176  \t3.55271e-15\n",
            "Best fitness = 16.175988795749973\n"
          ]
        }
      ]
    },
    {
      "cell_type": "markdown",
      "metadata": {
        "id": "3W_CesVLEsvb"
      },
      "source": [
        "From experiments above we can see that maximum is not changing, thus we need to explore searching space more\n",
        "\n",
        "\n",
        "changing of mutation function: increase the probability of mutation"
      ]
    },
    {
      "cell_type": "code",
      "metadata": {
        "id": "L_0eTRXBGckc"
      },
      "source": [
        "def new_mutation(individual):\n",
        "    for i in range(len(individual)):\n",
        "        if i % 2 == 0:\n",
        "            for j in range(len(individual[i])):\n",
        "                for k in range(len(individual[i][j])):\n",
        "                    if rnd.random() < 0.45:\n",
        "                        individual[i][j] += rnd.normal(0.0, 0.2)\n",
        "\n",
        "    return individual,"
      ],
      "execution_count": null,
      "outputs": []
    },
    {
      "cell_type": "code",
      "metadata": {
        "colab": {
          "base_uri": "https://localhost:8080/"
        },
        "id": "eKZRqW_hK8GS",
        "outputId": "415a0169-9212-4dc1-a575-fd13f8038c39"
      },
      "source": [
        "exp.engine.register(\"mutate\", new_mutation)\n",
        "log, best = exp.run()"
      ],
      "execution_count": null,
      "outputs": [
        {
          "name": "stdout",
          "output_type": "stream",
          "text": [
            "gen\tnevals\tmin     \tmax     \tavg     \tstd    \n",
            "0  \t10    \t-725.704\t-24.4157\t-414.843\t211.621\n",
            "1  \t8     \t-296.962\t-24.4157\t-122.156\t72.4802\n",
            "2  \t8     \t-121.355\t5.25076 \t-47.2073\t42.4097\n",
            "3  \t8     \t-104.737\t5.25076 \t-20.5813\t31.3447\n",
            "4  \t8     \t-24.4157\t5.25076 \t2.28411 \t8.89995\n",
            "5  \t8     \t5.25076 \t5.25076 \t5.25076 \t0      \n",
            "6  \t8     \t5.25076 \t147.828 \t34.2608 \t56.7915\n",
            "7  \t8     \t5.25076 \t147.828 \t76.7865 \t71.0445\n",
            "8  \t8     \t147.828 \t147.828 \t147.828 \t2.84217e-14\n",
            "9  \t8     \t147.828 \t147.828 \t147.828 \t2.84217e-14\n",
            "10 \t8     \t-54.6378\t147.828 \t127.581 \t60.7396    \n",
            "Best fitness = 147.827614309262\n"
          ]
        }
      ]
    },
    {
      "cell_type": "markdown",
      "metadata": {
        "id": "_Ki6Vr_UQ3wH"
      },
      "source": [
        "let's increase population size"
      ]
    },
    {
      "cell_type": "code",
      "metadata": {
        "id": "yMft7YIyQq4C"
      },
      "source": [
        "pop_size = 20\n",
        "exp = RL_ga_experiment(input_dim, l1, l2, output_dim, pop_size, iterations)\n",
        "exp.engine.register(\"mutate\", new_mutation)"
      ],
      "execution_count": null,
      "outputs": []
    },
    {
      "cell_type": "code",
      "metadata": {
        "colab": {
          "base_uri": "https://localhost:8080/"
        },
        "id": "sYiV4wHEMbE0",
        "outputId": "fbd8ff7a-868d-4d3a-c9cf-8eb64fff0bf3"
      },
      "source": [
        "log, best = exp.run()"
      ],
      "execution_count": null,
      "outputs": [
        {
          "name": "stdout",
          "output_type": "stream",
          "text": [
            "gen\tnevals\tmin     \tmax    \tavg     \tstd    \n",
            "0  \t20    \t-844.502\t-79.836\t-437.211\t241.467\n",
            "1  \t15    \t-378.124\t-79.836\t-162.94 \t73.1998\n",
            "2  \t12    \t-192.624\t-79.836\t-119.672\t41.0792\n",
            "3  \t15    \t-196.027\t-73.7502\t-92.9713\t30.6553\n",
            "4  \t12    \t-92.9756\t111.043 \t-57.377 \t57.2942\n",
            "5  \t11    \t-92.9756\t111.043 \t-41.4078\t66.2867\n",
            "6  \t9     \t-79.836 \t111.043 \t15.0697 \t79.4097\n",
            "7  \t14    \t-228.275\t111.043 \t46.8254 \t94.6064\n",
            "8  \t11    \t-125.414\t111.043 \t80.8872 \t72.473 \n",
            "9  \t13    \t111.043 \t111.043 \t111.043 \t0      \n",
            "10 \t15    \t-99.8738\t111.043 \t91.0554 \t58.8347\n",
            "Best fitness = 111.04299169199867\n"
          ]
        }
      ]
    },
    {
      "cell_type": "markdown",
      "metadata": {
        "id": "6P2XocmGTBSv"
      },
      "source": [
        "We can see that we obtain results more than 100, but this result is very unstable, because we obtain good individuals because of random mutations."
      ]
    },
    {
      "cell_type": "code",
      "metadata": {
        "id": "-TQMsx9KTxY9"
      },
      "source": [
        "pop_size = 20\n",
        "iterations = 20\n",
        "exp = RL_ga_experiment(input_dim, l1, l2, output_dim, pop_size, iterations)\n",
        "exp.engine.register(\"mutate\", new_mutation)\n",
        "exp.mut_prob = 0.7\n",
        "exp.engine.register('select', tools.selTournament, tournsize=5)"
      ],
      "execution_count": null,
      "outputs": []
    },
    {
      "cell_type": "code",
      "metadata": {
        "colab": {
          "base_uri": "https://localhost:8080/"
        },
        "id": "zpeYXhULTBoE",
        "outputId": "e3b0867b-f2fa-4ffa-c2e2-12e2a64553ee"
      },
      "source": [
        "tries = 10\n",
        "best_fit = []\n",
        "for i in range(tries):\n",
        "  log = exp.run(update_log = 'no')\n",
        "  best_fit.append(exp.best_fit)\n",
        "  print(f'{i+1} iterations are ready')"
      ],
      "execution_count": null,
      "outputs": [
        {
          "output_type": "stream",
          "name": "stdout",
          "text": [
            "1 iterations are ready\n",
            "2 iterations are ready\n",
            "3 iterations are ready\n",
            "4 iterations are ready\n",
            "5 iterations are ready\n",
            "6 iterations are ready\n",
            "7 iterations are ready\n",
            "8 iterations are ready\n",
            "9 iterations are ready\n",
            "10 iterations are ready\n"
          ]
        }
      ]
    },
    {
      "cell_type": "code",
      "metadata": {
        "id": "6C5UARZTTH9f",
        "colab": {
          "base_uri": "https://localhost:8080/",
          "height": 279
        },
        "outputId": "4b59ab84-f020-4b22-9056-86ab8cbe0c70"
      },
      "source": [
        "plt.hist(best_fit, density=True, bins = 10)\n",
        "plt.ylabel('Frequency')\n",
        "plt.xlabel('Found optimums');"
      ],
      "execution_count": null,
      "outputs": [
        {
          "output_type": "display_data",
          "data": {
            "image/png": "[encoded data removed]",
            "text/plain": [
              "<Figure size 432x288 with 1 Axes>"
            ]
          },
          "metadata": {
            "needs_background": "light"
          }
        }
      ]
    },
    {
      "cell_type": "markdown",
      "metadata": {
        "id": "TROgTv8stnAD"
      },
      "source": [
        "As a result, we can see that by using best techniques that we found, we still cannot obtain stable good results for 20 iterations. However, it seems, that step by step algortihm is exploring searching space and it has good chances to obtain high results in long-tern distance. Thus, setting of 200 iteration should lead to good results, but it is difficult to check due to the computational limitation of hardware."
      ]
    },
    {
      "cell_type": "markdown",
      "metadata": {
        "id": "KneU3Xoyy5mr"
      },
      "source": [
        "# Additional try \n",
        "\n",
        "Inspired by: https://arxiv.org/pdf/1712.06567.pdf and https://towardsdatascience.com/reinforcement-learning-without-gradients-evolving-agents-using-genetic-algorithms-8685817d84f"
      ]
    },
    {
      "cell_type": "code",
      "metadata": {
        "id": "tvDr-0uyyDmB"
      },
      "source": [
        "def new_mutation(individual):\n",
        "    mutation_power = 0.02\n",
        "    for i in range(len(individual)):\n",
        "        if i % 2 == 0:\n",
        "            for j in range(len(individual[i])):\n",
        "                for k in range(len(individual[i][j])):\n",
        "                        individual[i][j] += mutation_power * np.random.randn()\n",
        "\n",
        "    return individual,"
      ],
      "execution_count": 6,
      "outputs": []
    },
    {
      "cell_type": "code",
      "metadata": {
        "id": "3lEW4R9NzHZ2"
      },
      "source": [
        "def varOr(population, toolbox, lambda_, cxpb, mutpb):\n",
        "    offspring = []\n",
        "    for _ in range(lambda_):\n",
        "        op_choice = random.random()\n",
        "        if op_choice < cxpb:            # Apply crossover\n",
        "            ind1, ind2 = list(map(toolbox.clone, random.sample(population, 2)))\n",
        "            ind1, ind2 = toolbox.mate(ind1, ind2)\n",
        "            del ind1.fitness.values\n",
        "            del ind2.fitness.values\n",
        "            offspring.append(ind1)\n",
        "            offspring.append(ind2)\n",
        "        elif op_choice < cxpb + mutpb:  # Apply mutation\n",
        "            ind = toolbox.clone(random.choice(population))\n",
        "            ind, = toolbox.mutate(ind)\n",
        "            del ind.fitness.values\n",
        "            offspring.append(ind)\n",
        "        else:                           # Apply reproduction\n",
        "            offspring.append(toolbox.clone(random.choice(population)))\n",
        "\n",
        "    return offspring"
      ],
      "execution_count": 17,
      "outputs": []
    },
    {
      "cell_type": "code",
      "metadata": {
        "id": "KEyQwP7Ax96s"
      },
      "source": [
        "pop_size = 20\n",
        "iterations = 20\n",
        "exp = RL_ga_experiment(input_dim, l1, l2, output_dim, pop_size, iterations)\n",
        "exp.engine.register(\"mutate\", new_mutation)\n",
        "exp.mut_prob = 0.6\n",
        "exp.cxpb = 0.3\n",
        "exp.engine.register('select', tools.selTournament, tournsize=5)"
      ],
      "execution_count": 19,
      "outputs": []
    },
    {
      "cell_type": "markdown",
      "metadata": {
        "id": "iREJzMMMAQD6"
      },
      "source": [
        "Intervention to eaMuPlusLambda algorithm: if std is small, we increase probability of mutation"
      ]
    },
    {
      "cell_type": "code",
      "metadata": {
        "id": "nbWX0chtAIo6"
      },
      "source": [
        "def eaMuPlusLambda(population, toolbox, mu, lambda_, cxpb, mutpb, ngen,\n",
        "                   stats=None, halloffame=None, verbose=__debug__):\n",
        "    logbook = tools.Logbook()\n",
        "    logbook.header = ['gen', 'nevals'] + (stats.fields if stats else [])\n",
        "\n",
        "    # Evaluate the individuals with an invalid fitness\n",
        "    invalid_ind = [ind for ind in population if not ind.fitness.valid]\n",
        "    fitnesses = toolbox.map(toolbox.evaluate, invalid_ind)\n",
        "    for ind, fit in zip(invalid_ind, fitnesses):\n",
        "        ind.fitness.values = fit\n",
        "\n",
        "    if halloffame is not None:\n",
        "        halloffame.update(population)\n",
        "\n",
        "    record = stats.compile(population) if stats is not None else {}\n",
        "    logbook.record(gen=0, nevals=len(invalid_ind), **record)\n",
        "    if verbose:\n",
        "        print(logbook.stream)\n",
        "    cxpb_original = cxpb\n",
        "    mutpb_original = mutpb\n",
        "\n",
        "    # Begin the generational process\n",
        "    for gen in range(1, ngen + 1):\n",
        "        # Vary the population\n",
        "        if halloffame is not None:\n",
        "            for ind in halloffame:\n",
        "                population.append(toolbox.clone(ind))\n",
        "        offspring = varOr(population, toolbox, lambda_, cxpb, mutpb)\n",
        "\n",
        "        # Evaluate the individuals with an invalid fitness\n",
        "        invalid_ind = [ind for ind in offspring if not ind.fitness.valid]\n",
        "        fitnesses = toolbox.map(toolbox.evaluate, invalid_ind)\n",
        "        for ind, fit in zip(invalid_ind, fitnesses):\n",
        "            ind.fitness.values = fit\n",
        "\n",
        "        # Update the hall of fame with the generated individuals\n",
        "        if halloffame is not None:\n",
        "            halloffame.update(offspring)\n",
        "\n",
        "        # Select the next generation population\n",
        "        population[:] = toolbox.select(population + offspring, mu)\n",
        "\n",
        "        # Update the statistics with the new population\n",
        "        record = stats.compile(population) if stats is not None else {}\n",
        "        logbook.record(gen=gen, nevals=len(invalid_ind), **record)\n",
        "        if verbose:\n",
        "            print(logbook.stream)\n",
        "        if record['std'] < 10:\n",
        "          print('std is very small, set more mutations')\n",
        "          mutpb = 0.99\n",
        "          cxpb = 0.001\n",
        "        else:\n",
        "          if mutpb != mutpb_original:\n",
        "            print('set mutpb and cxpb to original values')\n",
        "            mutpb = mutpb_original\n",
        "            cxpb = cxpb_original\n",
        "\n",
        "\n",
        "    return population, logbook\n"
      ],
      "execution_count": 23,
      "outputs": []
    },
    {
      "cell_type": "code",
      "metadata": {
        "colab": {
          "base_uri": "https://localhost:8080/"
        },
        "id": "8g1LXAEmziHj",
        "outputId": "8f9f4543-016f-4ea7-df84-c9f9067fa4ab"
      },
      "source": [
        "%%time\n",
        "exp.run()"
      ],
      "execution_count": 24,
      "outputs": [
        {
          "output_type": "stream",
          "name": "stdout",
          "text": [
            "gen\tnevals\tmin     \tmax     \tavg     \tstd    \n",
            "0  \t20    \t-854.114\t-101.075\t-403.576\t185.527\n",
            "1  \t15    \t-333.855\t-61.403 \t-113.019\t67.0517\n",
            "2  \t15    \t-101.075\t-61.403 \t-73.545 \t15.7718\n",
            "3  \t13    \t-97.8063\t-48.1698\t-61.8999\t9.1392 \n",
            "std is very small, set more mutations\n",
            "4  \t16    \t-61.403 \t-48.1698\t-53.4722\t6.4755 \n",
            "std is very small, set more mutations\n",
            "5  \t16    \t-133.757\t-48.1698\t-53.1108\t18.7244\n",
            "set mutpb and cxpb to original values\n",
            "6  \t15    \t-48.2308\t-2.66513\t-35.9862\t18.7131\n",
            "7  \t15    \t-48.1698\t-2.66513\t-26.9661\t20.8162\n",
            "8  \t14    \t-48.1698\t-2.66513\t-7.13754\t9.98114\n",
            "std is very small, set more mutations\n",
            "9  \t16    \t-9.98906\t28.8261 \t1.69236 \t11.5086\n",
            "set mutpb and cxpb to original values\n",
            "10 \t14    \t-9.98906\t28.8261 \t3.26692 \t12.8776\n",
            "11 \t13    \t-2.66513\t28.8261 \t11.5059 \t15.6667\n",
            "12 \t14    \t-2.66513\t28.8261 \t20.9533 \t13.6361\n",
            "13 \t16    \t-104.62 \t28.8261 \t17.0152 \t32.4734\n",
            "14 \t12    \t28.8261 \t28.8261 \t28.8261 \t7.10543e-15\n",
            "std is very small, set more mutations\n",
            "15 \t16    \t28.7327 \t28.8261 \t28.8214 \t0.0203539  \n",
            "std is very small, set more mutations\n",
            "16 \t16    \t28.8261 \t28.8261 \t28.8261 \t7.10543e-15\n",
            "std is very small, set more mutations\n",
            "17 \t16    \t28.8261 \t28.8261 \t28.8261 \t7.10543e-15\n",
            "std is very small, set more mutations\n",
            "18 \t16    \t28.8261 \t28.8261 \t28.8261 \t7.10543e-15\n",
            "std is very small, set more mutations\n",
            "19 \t16    \t28.8261 \t28.8261 \t28.8261 \t7.10543e-15\n",
            "std is very small, set more mutations\n",
            "20 \t16    \t16.9306 \t28.8261 \t28.2313 \t2.59256    \n",
            "std is very small, set more mutations\n",
            "Best fitness = 28.826099246838993\n",
            "CPU times: user 20min 20s, sys: 28 s, total: 20min 48s\n",
            "Wall time: 20min 45s\n"
          ]
        },
        {
          "output_type": "execute_result",
          "data": {
            "text/plain": [
              "([{'avg': -403.57621977731935,\n",
              "   'gen': 0,\n",
              "   'max': -101.07489935783957,\n",
              "   'min': -854.1135351550389,\n",
              "   'nevals': 20,\n",
              "   'std': 185.52676247679776},\n",
              "  {'avg': -113.01886044349435,\n",
              "   'gen': 1,\n",
              "   'max': -61.40303825586088,\n",
              "   'min': -333.85487317473996,\n",
              "   'nevals': 15,\n",
              "   'std': 67.05167265686471},\n",
              "  {'avg': -73.54501529836196,\n",
              "   'gen': 2,\n",
              "   'max': -61.40303825586088,\n",
              "   'min': -101.07489935783957,\n",
              "   'nevals': 15,\n",
              "   'std': 15.771801121299097},\n",
              "  {'avg': -61.89987777314455,\n",
              "   'gen': 3,\n",
              "   'max': -48.169783980979894,\n",
              "   'min': -97.80633715129663,\n",
              "   'nevals': 13,\n",
              "   'std': 9.139204609152408},\n",
              "  {'avg': -53.472244355261424,\n",
              "   'gen': 4,\n",
              "   'max': -48.169783980979894,\n",
              "   'min': -61.40303825586088,\n",
              "   'nevals': 16,\n",
              "   'std': 6.475498488007334},\n",
              "  {'avg': -53.110821398133226,\n",
              "   'gen': 5,\n",
              "   'max': -48.169783980979894,\n",
              "   'min': -133.75727804916554,\n",
              "   'nevals': 16,\n",
              "   'std': 18.72439737938338},\n",
              "  {'avg': -35.986227514437296,\n",
              "   'gen': 6,\n",
              "   'max': -2.665132254913104,\n",
              "   'min': -48.230841743174054,\n",
              "   'nevals': 15,\n",
              "   'std': 18.71314941278175},\n",
              "  {'avg': -26.966146952047843,\n",
              "   'gen': 7,\n",
              "   'max': -2.665132254913104,\n",
              "   'min': -48.169783980979894,\n",
              "   'nevals': 15,\n",
              "   'std': 20.816168463930598},\n",
              "  {'avg': -7.137544085968036,\n",
              "   'gen': 8,\n",
              "   'max': -2.665132254913104,\n",
              "   'min': -48.169783980979894,\n",
              "   'nevals': 14,\n",
              "   'std': 9.981141599412805},\n",
              "  {'avg': 1.6923559295577781,\n",
              "   'gen': 9,\n",
              "   'max': 28.826099246838993,\n",
              "   'min': -9.989063070751754,\n",
              "   'nevals': 16,\n",
              "   'std': 11.508646491942383},\n",
              "  {'avg': 3.266917504645383,\n",
              "   'gen': 10,\n",
              "   'max': 28.826099246838993,\n",
              "   'min': -9.989063070751754,\n",
              "   'nevals': 14,\n",
              "   'std': 12.877589684380784},\n",
              "  {'avg': 11.505921920875341,\n",
              "   'gen': 11,\n",
              "   'max': 28.826099246838993,\n",
              "   'min': -2.665132254913104,\n",
              "   'nevals': 13,\n",
              "   'std': 15.666689861629788},\n",
              "  {'avg': 20.953291371400972,\n",
              "   'gen': 12,\n",
              "   'max': 28.826099246838993,\n",
              "   'min': -2.665132254913104,\n",
              "   'nevals': 14,\n",
              "   'std': 13.636103238487049},\n",
              "  {'avg': 17.015217517378648,\n",
              "   'gen': 13,\n",
              "   'max': 28.826099246838993,\n",
              "   'min': -104.61960006580013,\n",
              "   'nevals': 16,\n",
              "   'std': 32.473414135738224},\n",
              "  {'avg': 28.826099246839,\n",
              "   'gen': 14,\n",
              "   'max': 28.826099246838993,\n",
              "   'min': 28.826099246838993,\n",
              "   'nevals': 12,\n",
              "   'std': 7.105427357601002e-15},\n",
              "  {'avg': 28.821429735079825,\n",
              "   'gen': 15,\n",
              "   'max': 28.826099246838993,\n",
              "   'min': 28.73270901165546,\n",
              "   'nevals': 16,\n",
              "   'std': 0.02035392987392613},\n",
              "  {'avg': 28.826099246839,\n",
              "   'gen': 16,\n",
              "   'max': 28.826099246838993,\n",
              "   'min': 28.826099246838993,\n",
              "   'nevals': 16,\n",
              "   'std': 7.105427357601002e-15},\n",
              "  {'avg': 28.826099246839,\n",
              "   'gen': 17,\n",
              "   'max': 28.826099246838993,\n",
              "   'min': 28.826099246838993,\n",
              "   'nevals': 16,\n",
              "   'std': 7.105427357601002e-15},\n",
              "  {'avg': 28.826099246839,\n",
              "   'gen': 18,\n",
              "   'max': 28.826099246838993,\n",
              "   'min': 28.826099246838993,\n",
              "   'nevals': 16,\n",
              "   'std': 7.105427357601002e-15},\n",
              "  {'avg': 28.826099246839,\n",
              "   'gen': 19,\n",
              "   'max': 28.826099246838993,\n",
              "   'min': 28.826099246838993,\n",
              "   'nevals': 16,\n",
              "   'std': 7.105427357601002e-15},\n",
              "  {'avg': 28.23132562899388,\n",
              "   'gen': 20,\n",
              "   'max': 28.826099246838993,\n",
              "   'min': 16.930626889936704,\n",
              "   'nevals': 16,\n",
              "   'std': 2.5925580944709337}],\n",
              " [array([[-0.25722829,  0.31886185,  0.1438044 ,  0.69405805,  0.15578205,\n",
              "           0.0612468 ,  0.29402358,  0.06947928, -0.20992644, -0.40047725,\n",
              "          -0.03187337,  0.6168919 , -0.23105415,  0.16553713,  0.4246658 ,\n",
              "          -0.11512133,  0.25031035,  0.19930266,  0.56052693,  0.39643672,\n",
              "           0.45785223,  0.34672197,  0.38817684,  0.88252392, -0.191435  ,\n",
              "           0.38859756,  0.34367241, -0.27399729,  0.3918179 ,  0.50041685,\n",
              "           0.68778717,  0.48710464,  0.46581559, -0.08560335,  0.2955396 ,\n",
              "           0.32115889,  0.50896052,  0.33876095,  0.11365354,  0.8346868 ,\n",
              "           0.64691864,  0.30221163,  0.36399976,  0.48385877,  0.14916296,\n",
              "           0.26289253,  0.4425536 ,  0.18388347,  0.30666841,  0.13994498,\n",
              "           0.57656367,  0.05365159,  0.47803778,  0.20927391,  0.28239428,\n",
              "          -0.35876429,  0.0836746 ,  0.41219394,  0.52396436,  0.18399943,\n",
              "           0.24801141,  0.21461902,  0.09636305,  0.57615106],\n",
              "         [ 0.17131464,  0.35869086, -0.01441973, -0.08275919,  0.65520634,\n",
              "           0.03220777, -0.22339862,  0.53490344,  0.25993336,  0.12594425,\n",
              "          -0.39077167,  0.20880773,  0.6332669 ,  0.09104507,  0.33219424,\n",
              "           0.57849041,  0.61095608,  0.11649557,  0.07158395,  0.01506584,\n",
              "          -0.09713259,  0.4311199 ,  0.85801936,  0.49645487, -0.13231663,\n",
              "           0.61362553,  0.17964356,  0.23284303,  0.06522052,  0.04949732,\n",
              "           0.19051947, -0.06015754,  0.17358803,  0.9583764 ,  0.45520861,\n",
              "           0.28553953,  0.66734679, -0.21126753,  0.33470341,  0.65883197,\n",
              "           0.56622051,  0.55438198,  0.29341224,  0.36896426, -0.02925446,\n",
              "          -0.11396097, -0.16795808,  0.19270031,  0.54283089,  0.6609954 ,\n",
              "           0.32776496,  0.827231  , -0.0367522 ,  0.51978184,  0.14130601,\n",
              "           0.30102409,  0.00969123,  0.22605272,  0.47613781,  0.13428085,\n",
              "          -0.0236534 ,  0.79839331,  0.21768417,  0.19682815],\n",
              "         [ 0.27265203,  0.47044911,  0.30085436,  0.15099082, -0.34127013,\n",
              "          -0.38181853,  0.07784284,  0.09681733,  0.41920841,  0.26058728,\n",
              "           0.35652067,  0.5445395 ,  0.90727468, -0.26871938, -0.11915277,\n",
              "          -0.04448158,  0.11769367,  0.67568781,  0.34930284,  0.01141463,\n",
              "          -0.14478381,  0.40480114,  0.14920443,  0.29261285, -0.26470346,\n",
              "           0.05827339, -0.25102111,  0.26761129, -0.23288579,  0.0777516 ,\n",
              "           0.72433866,  0.06070793, -0.2647887 ,  0.20821139,  0.314395  ,\n",
              "           0.36608665, -0.03280073, -0.22957168, -0.9783733 ,  0.08480731,\n",
              "           0.10339389,  0.17661377,  0.11289214, -0.32789935, -0.08035555,\n",
              "           0.17039426, -0.21583271, -0.1002952 , -0.11873692,  0.16205743,\n",
              "           0.25848459,  0.24459035,  0.11747291,  0.15767841,  0.06918302,\n",
              "           0.15771982,  0.47069103,  0.46348445,  0.05173321,  0.24448366,\n",
              "          -0.03518957,  0.64457941,  0.1190359 , -0.24122107],\n",
              "         [ 0.10302314,  0.17427835,  0.10659755,  0.35845164, -0.15111917,\n",
              "          -0.1707431 , -0.17869177, -0.32214948,  0.2323008 ,  0.68502443,\n",
              "           0.1035992 , -0.15217375,  0.04168052,  0.12292254,  0.2818938 ,\n",
              "           0.00388802,  0.22145347,  0.40081753,  0.41972781,  0.16331844,\n",
              "           0.10132267,  0.41612766,  0.3323775 ,  0.22360915,  0.10571447,\n",
              "           0.02012366,  0.47418931,  0.18278983, -0.61309911,  0.7132312 ,\n",
              "           0.35350295, -0.01507342,  0.26314383,  0.7405036 ,  0.24849289,\n",
              "           0.11479325,  0.43415331,  0.24369031,  0.18491838, -0.55866126,\n",
              "          -0.06302105, -0.27766204,  0.24925642,  0.35327372,  0.15462451,\n",
              "           0.20375039,  0.10389225,  0.14940688, -0.13375576,  0.22946415,\n",
              "           0.28137928,  0.16080588,  0.31206614,  0.13779142,  0.11901765,\n",
              "           0.14026866,  0.41512959, -0.46475695, -0.0043284 , -0.18418078,\n",
              "          -0.03509241, -0.37837792, -0.1784579 ,  0.14584092],\n",
              "         [-0.24427072,  0.40642854,  0.12077467,  0.18662607,  0.49103797,\n",
              "           0.36541684,  0.29385741,  0.19053891,  0.41777136,  0.08382041,\n",
              "           0.27628082,  0.20260901, -0.14383766,  0.16475721,  0.32194582,\n",
              "           0.13663292, -0.15694218,  0.24511209,  0.51353769,  0.37980994,\n",
              "          -0.07183909,  0.05319226, -0.07832519,  0.58322338,  0.39559642,\n",
              "          -0.34645062, -0.04002144,  0.16798212,  0.18652107,  0.56841692,\n",
              "           0.15081191,  0.29895341, -0.24278806,  0.27175518,  0.42410584,\n",
              "          -0.21791756,  0.06685086,  0.15392037,  0.65210971,  0.53122138,\n",
              "           0.52081276,  0.03499552,  0.50441166, -0.18249191,  0.06941076,\n",
              "           0.39946085,  0.26045414,  0.36930486,  0.24688594,  0.16902731,\n",
              "           0.0699958 ,  0.0099816 ,  0.34441924,  0.51424693, -0.17289186,\n",
              "          -0.01820655,  0.30100619,  0.91216362, -0.18417865,  0.58434329,\n",
              "           0.26331599, -0.3316086 ,  0.25876641,  0.79044145],\n",
              "         [ 0.02734111, -0.04538817, -0.00166765,  0.12921268,  0.08843974,\n",
              "          -0.29794515,  0.04286578,  0.48551204,  0.06141159,  0.41743978,\n",
              "           0.27413536,  0.00285422, -0.19861586,  0.86016503,  0.46284054,\n",
              "           0.50623884,  0.07651939,  0.08917451,  0.54866446,  0.2866014 ,\n",
              "           0.16663148, -0.08938558,  0.12199849,  0.4921335 ,  0.40802335,\n",
              "           0.6773748 ,  0.51140124, -0.00160321,  0.48662498, -0.191045  ,\n",
              "           0.52245057, -0.01091201, -0.07960888,  0.25305551,  0.37391348,\n",
              "           0.5486062 ,  0.09634679,  0.55181499,  0.12688677,  0.15187344,\n",
              "           0.49386205,  0.79231148,  0.12915213,  0.31294719,  0.30093159,\n",
              "           0.09373936,  0.02066995, -0.08942359,  0.19927577, -0.04065525,\n",
              "          -0.03548742,  0.55214465,  0.29188495,  0.03058532, -0.00998999,\n",
              "           0.2316558 , -0.21597408,  0.12554303,  0.5195043 ,  0.22891639,\n",
              "           0.5897739 ,  0.45754161, -0.10877792,  0.41467659],\n",
              "         [ 0.36747789,  0.01259131,  0.44126728,  0.47440772,  0.15767827,\n",
              "           0.04076588,  0.24113693,  0.64803168,  0.27767279,  0.37383966,\n",
              "           0.26506456,  0.27531569,  0.10853734,  0.19621193,  0.46187057,\n",
              "           0.42454785, -0.33818176,  0.18775025,  0.14219778,  0.23348501,\n",
              "           0.55814402,  0.7722915 , -0.19617267,  0.40543327,  0.23107716,\n",
              "           0.48386112,  0.57467533,  0.65031845,  0.29103576,  0.04326706,\n",
              "          -0.03520675,  0.36916118,  0.2883697 ,  0.37065201,  0.64103096,\n",
              "           0.13311898,  0.63202216,  0.41826967,  0.55347401, -0.07758508,\n",
              "           0.60113527, -0.07584775,  0.64432824,  0.02036035, -0.00683267,\n",
              "           0.5869881 ,  0.05595895,  0.84784776,  0.89408866,  0.31716356,\n",
              "          -0.13341446,  0.02687837,  0.45583413, -0.33418532,  0.65398702,\n",
              "           0.39748637,  0.47395008,  0.33026771,  0.37924337,  0.46608711,\n",
              "          -0.21504625,  0.55990768,  0.71572927, -0.07202059],\n",
              "         [-0.37296038,  0.15363029,  0.15801976,  0.44201953,  0.15136028,\n",
              "           0.4199776 ,  0.04358571,  0.21582477,  0.41897431,  0.20364969,\n",
              "          -0.56226011, -0.22957843,  0.52662854,  0.3138193 , -0.22949628,\n",
              "          -0.4943107 ,  0.07766698,  0.39818117, -0.4203158 ,  0.5269573 ,\n",
              "           0.33475628,  0.47733288,  0.49410077,  0.40689289,  0.094395  ,\n",
              "          -0.27868948,  0.56112342, -0.12441914, -0.10078485, -0.1087858 ,\n",
              "           0.11562428,  0.09504583, -0.08756411, -0.13046916, -0.38408776,\n",
              "           0.22614958,  0.16327174, -0.24983076, -0.21109461, -0.53600832,\n",
              "           0.04247187,  0.17208887, -0.22875185, -0.50299738, -0.23776878,\n",
              "           0.13264881, -0.28819124,  0.19574921, -0.46663506,  0.12747258,\n",
              "          -0.36062605,  0.41736122, -0.47682062,  0.25209872,  0.54926845,\n",
              "          -0.06326181, -0.26925864,  0.11888122, -0.18663123,  0.1459792 ,\n",
              "           0.01737438,  0.46460469,  0.51203282,  0.52930266]]),\n",
              "  array([0., 0., 0., 0., 0., 0., 0., 0., 0., 0., 0., 0., 0., 0., 0., 0., 0.,\n",
              "         0., 0., 0., 0., 0., 0., 0., 0., 0., 0., 0., 0., 0., 0., 0., 0., 0.,\n",
              "         0., 0., 0., 0., 0., 0., 0., 0., 0., 0., 0., 0., 0., 0., 0., 0., 0.,\n",
              "         0., 0., 0., 0., 0., 0., 0., 0., 0., 0., 0., 0., 0.]),\n",
              "  array([[-0.22580596,  0.40019232,  0.02302225, ..., -0.17125145,\n",
              "           0.07448201,  0.02629445],\n",
              "         [-0.21886213, -0.09888337, -0.54147422, ...,  0.05160789,\n",
              "           0.03317934,  0.09190931],\n",
              "         [ 0.07664631, -0.29277902,  0.34349495, ..., -0.4216523 ,\n",
              "          -0.24190021,  0.0301249 ],\n",
              "         ...,\n",
              "         [ 0.20730154,  0.38923031,  0.13948494, ...,  0.4530318 ,\n",
              "           0.27383449,  1.21655231],\n",
              "         [ 0.41674556, -0.12228799,  0.34339207, ...,  1.2053326 ,\n",
              "           0.2400291 ,  0.49157521],\n",
              "         [-0.30636582, -0.63293298,  0.08574331, ...,  0.11154796,\n",
              "          -0.16908657, -0.28104167]]),\n",
              "  array([0., 0., 0., 0., 0., 0., 0., 0., 0., 0., 0., 0., 0., 0., 0., 0.]),\n",
              "  array([[ 1.53217282e-01, -1.15686585e-02, -4.20145715e-02,\n",
              "          -3.38202705e-04],\n",
              "         [ 2.66442350e-01,  2.06392454e-01, -1.09891559e-01,\n",
              "           2.89794139e-01],\n",
              "         [ 4.01670399e-01,  6.55265106e-01, -8.17777663e-02,\n",
              "           1.74067025e-01],\n",
              "         [-9.63880012e-02,  1.05651678e-01,  1.38569815e-01,\n",
              "           5.04997463e-01],\n",
              "         [ 6.83554383e-01,  5.43491247e-01, -5.01411701e-02,\n",
              "          -9.57988672e-02],\n",
              "         [ 3.37290825e-01, -2.40395920e-01,  2.17026661e-01,\n",
              "           3.37332110e-02],\n",
              "         [ 3.26909430e-01, -3.01349095e-01,  1.57771443e-02,\n",
              "          -1.65626630e-01],\n",
              "         [-2.56517139e-01, -1.39488275e-01,  6.38477075e-02,\n",
              "           1.40731050e-01],\n",
              "         [ 1.09765480e-01, -1.89364680e-01, -2.42862277e-01,\n",
              "           1.06001381e-01],\n",
              "         [-5.21533252e-01,  3.78986256e-02,  1.55066422e-01,\n",
              "           1.49546750e-01],\n",
              "         [ 1.31211821e-02, -2.16285759e-01, -4.11914961e-01,\n",
              "           1.46794942e-02],\n",
              "         [-3.63147660e-01,  1.92522348e-01, -1.22140248e-01,\n",
              "           1.17632345e-01],\n",
              "         [ 3.53527861e-01,  3.25189517e-01,  1.05364418e-01,\n",
              "           3.22743442e-01],\n",
              "         [ 3.22091241e-01,  1.81169220e-01,  2.87818522e-02,\n",
              "           3.38710593e-01],\n",
              "         [ 4.98008939e-01,  3.06506844e-01,  5.19772560e-01,\n",
              "          -8.13459138e-02],\n",
              "         [-2.23485763e-01, -4.11720432e-02, -1.11573877e-01,\n",
              "          -2.02560286e-01]]),\n",
              "  array([0., 0., 0., 0.])])"
            ]
          },
          "metadata": {},
          "execution_count": 24
        }
      ]
    },
    {
      "cell_type": "markdown",
      "metadata": {
        "id": "f00EnkXpaSjw"
      },
      "source": [
        "It seems that this idea did not lead to improvements of results before."
      ]
    }
  ]
}